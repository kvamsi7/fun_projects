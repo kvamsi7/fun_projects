{
 "cells": [
  {
   "cell_type": "markdown",
   "id": "3257bea4-dd80-4038-bcac-f7f6463b58e1",
   "metadata": {},
   "source": [
    "# 2048"
   ]
  },
  {
   "cell_type": "markdown",
   "id": "43e499d9-f11b-4d43-85f0-38ff29d38448",
   "metadata": {},
   "source": [
    "### logics"
   ]
  },
  {
   "cell_type": "code",
   "execution_count": 21,
   "id": "c1e93bc6-7b8e-4850-86e6-61403bcce578",
   "metadata": {},
   "outputs": [],
   "source": [
    "import random"
   ]
  },
  {
   "cell_type": "code",
   "execution_count": 2,
   "id": "b8132209-529a-46b2-abec-050db0184bbb",
   "metadata": {},
   "outputs": [],
   "source": [
    "    def start_game():\n",
    "        mat = []\n",
    "        for i in range(4):\n",
    "            mat.append([0]*4)\n",
    "        return mat"
   ]
  },
  {
   "cell_type": "code",
   "execution_count": 22,
   "id": "af085820-dd99-4ae5-9547-89c05593f9bf",
   "metadata": {},
   "outputs": [],
   "source": [
    "def add_new_2(mat):\n",
    "    r = random.randint(0,3)\n",
    "    c = random.randint(0,3)\n",
    "    while(mat[r][c] != 0):\n",
    "        r = random.randint(0,3)\n",
    "        c = random.randint(0,3)\n",
    "    mat[r][c] = 2"
   ]
  },
  {
   "cell_type": "code",
   "execution_count": 4,
   "id": "ffe90ddb-84ec-4bcb-ae4e-b12c90578783",
   "metadata": {},
   "outputs": [],
   "source": [
    "def get_current_state(mat):\n",
    "\n",
    "    # anywhere 2048 is proesent\n",
    "    for i in range(4):\n",
    "        for j in rnage(4):\n",
    "            if (mat[i][j] == 2048):\n",
    "                return \"WON\"\n",
    "    # anywhere 0 is present\n",
    "    for i in range(4):\n",
    "        for j in range(4):\n",
    "            if(mat[i][j] == 0):\n",
    "                return \"GAME NOT OVER\"\n",
    "    # Every row and column except the last row and last column\n",
    "    for i in range(3):\n",
    "        for j in range(3):\n",
    "            if(mat[i][j] == mat[i+1][j] or mat[i][j] == mat[i][j+1]):\n",
    "                return \"GAME NOT OVER\"\n",
    "    # last row\n",
    "    for j in range(3):\n",
    "        if mat[3][j] == mat[3][j+1]:\n",
    "            return \"GAME NOT OVER\"\n",
    "\n",
    "    # last column\n",
    "    for i in range(3):\n",
    "        if mat[i][3] == mat[i+1][3]:\n",
    "            return \"GAME NOT OVER\"\n",
    "            \n",
    "    return \"LOST\""
   ]
  },
  {
   "cell_type": "code",
   "execution_count": 78,
   "id": "c47b62b9-db0d-44cc-9111-73ef22b52a73",
   "metadata": {},
   "outputs": [],
   "source": [
    "def compress(mat):\n",
    "    new_mat = []\n",
    "    for i in range(4):\n",
    "        new_mat.append([0]*4)\n",
    "    change = False\n",
    "    for i in range(4):\n",
    "        pos = 0 \n",
    "        for j in range(4):\n",
    "            if mat[i][j] != 0:\n",
    "                new_mat[i][pos] = mat[i][j]\n",
    "                if j != pos:\n",
    "                    change = True\n",
    "                pos += 1\n",
    "    # print(new_mat)\n",
    "    return new_mat,change"
   ]
  },
  {
   "cell_type": "code",
   "execution_count": 50,
   "id": "340cb3e4-9576-41dc-a4ad-48d465a2be6c",
   "metadata": {},
   "outputs": [],
   "source": [
    "def merge(mat):\n",
    "    change = False\n",
    "    for i in range(4):\n",
    "        for j in range(3):\n",
    "            if mat[i][j] == mat[i][j+1] and mat[i][j] != 0:\n",
    "                change = True\n",
    "                mat[i][j] = mat[i][j] * 2\n",
    "                mat[i][j+1] = 0\n",
    "    return change"
   ]
  },
  {
   "cell_type": "code",
   "execution_count": 39,
   "id": "6a0d205f-5238-4d8c-aec5-35bcc74d9735",
   "metadata": {},
   "outputs": [],
   "source": [
    "def reverse(mat):\n",
    "    new_mat = []\n",
    "    for i in range(4):\n",
    "        new_mat.append([])\n",
    "        for j in range(4):\n",
    "            new_mat[i].append(mat[i][4-j-1])\n",
    "    return new_mat"
   ]
  },
  {
   "cell_type": "code",
   "execution_count": 40,
   "id": "3e64b0a9-8eeb-4626-b4c6-135d78af8997",
   "metadata": {},
   "outputs": [],
   "source": [
    "def transpose(mat):\n",
    "    new_mat = []\n",
    "    for i in range(4):\n",
    "        new_mat.append([])\n",
    "        for j in range(4):\n",
    "            new_mat[i].append(mat[j][i])\n",
    "    return new_mat"
   ]
  },
  {
   "cell_type": "code",
   "execution_count": 48,
   "id": "59d0fe99-d010-4824-b443-52628f7bf9d0",
   "metadata": {},
   "outputs": [],
   "source": [
    "def move_left(mat):\n",
    "    mat,change1 = compress(mat)\n",
    "    change2 = merge(mat)\n",
    "    change = change1 or change2\n",
    "    mat,_ = compress(mat)\n",
    "    return mat,change\n",
    "\n",
    "def move_right(mat):\n",
    "    mat = reverse(mat)\n",
    "    mat,change1 = compress(mat)\n",
    "    change2 = merge(mat)\n",
    "    change = change1 or change2\n",
    "    mat,_ = compress(mat)\n",
    "    mat = reverse(mat)\n",
    "    return mat,change\n",
    "    \n",
    "def move_up(mat):\n",
    "    mat = transpose(mat)\n",
    "    mat,change1 = compress(mat)\n",
    "    change2 = merge(mat)\n",
    "    change = change1 or change2\n",
    "    mat,_ = compress(mat)\n",
    "    mat = transpose(mat)\n",
    "    return mat,change\n",
    "\n",
    "def move_down(mat):\n",
    "    mat = transpose(mat)\n",
    "    mat = reverse(mat)\n",
    "    mat,change1 = compress(mat)\n",
    "    change2 = merge(mat)\n",
    "    change = change1 or change2\n",
    "    mat,_ = compress(mat)\n",
    "    mat = reverse(mat)\n",
    "    mat = transpose(mat)\n",
    "    return mat,change"
   ]
  },
  {
   "cell_type": "code",
   "execution_count": 73,
   "id": "ae6c32ce-2636-4d62-bbd3-49b300970f58",
   "metadata": {},
   "outputs": [
    {
     "name": "stdout",
     "output_type": "stream",
     "text": [
      "[[0, 0, 0, 0], [0, 0, 0, 0], [0, 0, 0, 0], [0, 0, 0, 0]]\n"
     ]
    }
   ],
   "source": [
    "mat = start_game()\n",
    "print(mat)"
   ]
  },
  {
   "cell_type": "code",
   "execution_count": 74,
   "id": "0fc8dbe8-db49-4dd3-a48d-69c0ea1a7335",
   "metadata": {},
   "outputs": [
    {
     "name": "stdout",
     "output_type": "stream",
     "text": [
      "[[0, 0, 0, 0], [2, 0, 0, 0], [0, 0, 0, 0], [0, 0, 0, 0]]\n"
     ]
    }
   ],
   "source": [
    "add_new_2(mat)\n",
    "print(mat)"
   ]
  },
  {
   "cell_type": "code",
   "execution_count": 79,
   "id": "e0d236e6-35f9-4458-a274-3494e2674689",
   "metadata": {},
   "outputs": [
    {
     "name": "stdout",
     "output_type": "stream",
     "text": [
      "[[0, 0, 0, 0], [2, 0, 0, 0], [0, 0, 0, 0], [0, 0, 0, 0]] False\n"
     ]
    }
   ],
   "source": [
    "mat,_ = move_left(mat)\n",
    "print(mat,_)"
   ]
  },
  {
   "cell_type": "code",
   "execution_count": 65,
   "id": "990f8340-2f81-4082-9c97-4261cd5f1b7a",
   "metadata": {},
   "outputs": [
    {
     "name": "stdout",
     "output_type": "stream",
     "text": [
      "[[2, 0, 0, 0], [0, 0, 0, 0], [0, 0, 0, 0], [2, 0, 2, 0]]\n"
     ]
    }
   ],
   "source": [
    "add_new_2(mat)\n",
    "print(mat)"
   ]
  },
  {
   "cell_type": "code",
   "execution_count": 66,
   "id": "37a970bd-cefe-41ae-8993-b10b32637928",
   "metadata": {},
   "outputs": [
    {
     "name": "stdout",
     "output_type": "stream",
     "text": [
      "[[4, 0, 2, 0], [0, 0, 0, 0], [0, 0, 0, 0], [0, 0, 0, 0]]\n"
     ]
    }
   ],
   "source": [
    "mat,_ = move_up(mat)\n",
    "print(mat)"
   ]
  },
  {
   "cell_type": "code",
   "execution_count": 67,
   "id": "65e69567-e79b-4951-a7c5-f289221e69d5",
   "metadata": {},
   "outputs": [
    {
     "name": "stdout",
     "output_type": "stream",
     "text": [
      "[[4, 0, 2, 2], [0, 0, 0, 0], [0, 0, 0, 0], [0, 0, 0, 0]]\n"
     ]
    }
   ],
   "source": [
    "add_new_2(mat)\n",
    "print(mat)"
   ]
  },
  {
   "cell_type": "code",
   "execution_count": 68,
   "id": "50a2123c-10e6-445a-8864-d454f6f28bfc",
   "metadata": {},
   "outputs": [
    {
     "name": "stdout",
     "output_type": "stream",
     "text": [
      "[[4, 0, 2, 2], [0, 0, 0, 0], [0, 0, 0, 0], [0, 0, 0, 2]]\n"
     ]
    }
   ],
   "source": [
    "add_new_2(mat)\n",
    "print(mat)"
   ]
  },
  {
   "cell_type": "code",
   "execution_count": 69,
   "id": "b61656ae-20cd-4ca8-a730-25c219ed4d47",
   "metadata": {},
   "outputs": [
    {
     "name": "stdout",
     "output_type": "stream",
     "text": [
      "[[0, 0, 4, 4], [0, 0, 0, 0], [0, 0, 0, 0], [0, 0, 0, 2]]\n"
     ]
    }
   ],
   "source": [
    "mat,_ = move_right(mat)\n",
    "print(mat)"
   ]
  },
  {
   "cell_type": "code",
   "execution_count": 70,
   "id": "c19fce3f-08bf-4e88-a414-5feddcbca8ca",
   "metadata": {},
   "outputs": [
    {
     "name": "stdout",
     "output_type": "stream",
     "text": [
      "[[0, 0, 0, 0], [0, 0, 0, 0], [0, 0, 0, 4], [0, 0, 4, 2]]\n"
     ]
    }
   ],
   "source": [
    "mat,_ = move_down(mat)\n",
    "print(mat)"
   ]
  },
  {
   "cell_type": "code",
   "execution_count": 71,
   "id": "c44ce18a-02d5-46b7-9cbb-50b2e300d93c",
   "metadata": {},
   "outputs": [
    {
     "name": "stdout",
     "output_type": "stream",
     "text": [
      "[[0, 0, 0, 0], [0, 0, 0, 0], [0, 0, 0, 4], [0, 0, 4, 2]] True\n"
     ]
    }
   ],
   "source": [
    "mat,_ = move_down(mat)\n",
    "print(mat,_)"
   ]
  },
  {
   "cell_type": "code",
   "execution_count": null,
   "id": "10122386-57b5-4073-b780-6c4fd42058ba",
   "metadata": {},
   "outputs": [],
   "source": []
  }
 ],
 "metadata": {
  "kernelspec": {
   "display_name": "Python 3 (ipykernel)",
   "language": "python",
   "name": "python3"
  },
  "language_info": {
   "codemirror_mode": {
    "name": "ipython",
    "version": 3
   },
   "file_extension": ".py",
   "mimetype": "text/x-python",
   "name": "python",
   "nbconvert_exporter": "python",
   "pygments_lexer": "ipython3",
   "version": "3.10.14"
  }
 },
 "nbformat": 4,
 "nbformat_minor": 5
}
